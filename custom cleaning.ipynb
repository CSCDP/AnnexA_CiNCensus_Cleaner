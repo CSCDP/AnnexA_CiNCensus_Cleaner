{
 "cells": [
  {
   "cell_type": "code",
   "execution_count": null,
   "metadata": {},
   "outputs": [],
   "source": [
    "import pandas as pd\n",
    "import os\n",
    "import sys\n",
    "import logging\n",
    "from fddc.config import Config"
   ]
  },
  {
   "cell_type": "code",
   "execution_count": null,
   "metadata": {},
   "outputs": [],
   "source": [
    "annex_a_merged = 'C:/Users/celine.gross/Social Finance Ltd/CS Front Door Data Collaboration - Documents/06. Sensitive data (restricted)/West Berkshire/outputs/annex-a-merged.xlsx'\n",
    "matching_report = 'C:/Users/celine.gross/Social Finance Ltd/CS Front Door Data Collaboration - Documents/06. Sensitive data (restricted)/West Berkshire/outputs/matching-report.xlsx'\n",
    "output_file = 'C:/Users/celine.gross/Social Finance Ltd/CS Front Door Data Collaboration - Documents/06. Sensitive data (restricted)/West Berkshire/outputs/final_annex-a.xlsx'"
   ]
  },
  {
   "cell_type": "code",
   "execution_count": null,
   "metadata": {},
   "outputs": [],
   "source": [
    "config = Config(\"config/data-map.yml\")\n",
    "config['input_file'] = annex_a_merged\n",
    "config['input_matching'] = matching_report\n",
    "config['output_file'] = output_file"
   ]
  },
  {
   "cell_type": "code",
   "execution_count": null,
   "metadata": {},
   "outputs": [],
   "source": [
    "def custom_clean(input_file, input_matching, output_file, data_config, **args):\n",
    "    '''\n",
    "    Cleans the input_file based on changes in the input_matching report\n",
    "    Outputs the results in output_file\n",
    "    '''\n",
    "    writer_clean = pd.ExcelWriter(output_file, engine='xlsxwriter') # create object to store clean data\n",
    "    \n",
    "    for item in data_config:\n",
    "        # Load data and matching information for each list\n",
    "        data = pd.read_excel(input_file, sheet_name=item)\n",
    "        matching = pd.read_excel(input_matching, sheet_name=item)\n",
    "\n",
    "        for col in data.columns: # Look at each column in our data\n",
    "            if col in matching.column.unique(): # If the column exists in the matching report i.e. has matching information\n",
    "                df = matching[matching.column == col]\n",
    "                match = dict(zip(df.former_value, df.new_value)) # Create dict of matching values\n",
    "                data[col] = data[col].replace(match)\n",
    "    \n",
    "        # Save cleaned sheet into excel sheet\n",
    "        data.to_excel(writer_clean, sheet_name=item, index=False)\n",
    "    \n",
    "    # Save cleaned Annex A\n",
    "    writer_clean.save()\n",
    "    \n",
    "    # Done\n",
    "    print('Done!')"
   ]
  },
  {
   "cell_type": "code",
   "execution_count": null,
   "metadata": {},
   "outputs": [],
   "source": [
    "custom_clean(**config)"
   ]
  },
  {
   "cell_type": "code",
   "execution_count": null,
   "metadata": {},
   "outputs": [],
   "source": []
  }
 ],
 "metadata": {
  "kernelspec": {
   "display_name": "Python 3",
   "language": "python",
   "name": "python3"
  },
  "language_info": {
   "codemirror_mode": {
    "name": "ipython",
    "version": 3
   },
   "file_extension": ".py",
   "mimetype": "text/x-python",
   "name": "python",
   "nbconvert_exporter": "python",
   "pygments_lexer": "ipython3",
   "version": "3.7.5"
  }
 },
 "nbformat": 4,
 "nbformat_minor": 2
}
