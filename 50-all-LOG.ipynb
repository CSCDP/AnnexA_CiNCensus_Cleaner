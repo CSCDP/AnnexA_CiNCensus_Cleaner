{
 "cells": [
  {
   "cell_type": "markdown",
   "metadata": {},
   "source": [
    "# LOG"
   ]
  },
  {
   "cell_type": "code",
   "execution_count": null,
   "metadata": {},
   "outputs": [],
   "source": [
    "import glob\n",
    "import os\n",
    "import yaml\n",
    "from fddc.log.cin_log import build_cinrecord\n",
    "from fddc.log.annexa_log import build_annexarecord\n",
    "from fddc.log.log import build_log"
   ]
  },
  {
   "cell_type": "markdown",
   "metadata": {},
   "source": [
    "### Config"
   ]
  },
  {
   "cell_type": "code",
   "execution_count": null,
   "metadata": {},
   "outputs": [],
   "source": [
    "# Config file\n",
    "with open('config/cin_to_annexa.yaml') as FILE:\n",
    "    config = yaml.load(FILE, Loader=yaml.FullLoader)\n",
    "\n",
    "# Output file\n",
    "output_file = 'log.csv'"
   ]
  },
  {
   "cell_type": "markdown",
   "metadata": {},
   "source": [
    "##### Define if the log includes CIN Census and / or Annex A. \n",
    "At least one must be True."
   ]
  },
  {
   "cell_type": "code",
   "execution_count": null,
   "metadata": {},
   "outputs": [],
   "source": [
    "# CIN\n",
    "include_cincensus = True\n",
    "\n",
    "# CIN data\n",
    "cin_folder = '.../clean_cin' # Change filepath if needed\n",
    "cin_files = glob.glob(os.path.join(cin_folder, \"*.xml\"))"
   ]
  },
  {
   "cell_type": "code",
   "execution_count": null,
   "metadata": {},
   "outputs": [],
   "source": [
    "# Annex A\n",
    "include_annexa = False\n",
    "\n",
    "# Consolidated Annex A\n",
    "annexa_file = 'annex-a-cleaned.xlsx' # Change filepath if needed"
   ]
  },
  {
   "cell_type": "markdown",
   "metadata": {},
   "source": [
    "### Run programme (takes a few minutes depending on quantity of data)"
   ]
  },
  {
   "cell_type": "code",
   "execution_count": null,
   "metadata": {},
   "outputs": [],
   "source": [
    "# 1/ Create CIN log\n",
    "cin = build_cinrecord(cin_files, include_cincensus)\n",
    "\n",
    "# 2/ Create Annex A log\n",
    "annexa = build_annexarecord(annexa_file, include_annexa)\n",
    "\n",
    "# 3/ Create master log\n",
    "log = build_log(annexa, cin, output_file, config)\n",
    "log.head()"
   ]
  }
 ],
 "metadata": {
  "kernelspec": {
   "display_name": "Python 3",
   "language": "python",
   "name": "python3"
  },
  "language_info": {
   "codemirror_mode": {
    "name": "ipython",
    "version": 3
   },
   "file_extension": ".py",
   "mimetype": "text/x-python",
   "name": "python",
   "nbconvert_exporter": "python",
   "pygments_lexer": "ipython3",
   "version": "3.7.5"
  }
 },
 "nbformat": 4,
 "nbformat_minor": 2
}
