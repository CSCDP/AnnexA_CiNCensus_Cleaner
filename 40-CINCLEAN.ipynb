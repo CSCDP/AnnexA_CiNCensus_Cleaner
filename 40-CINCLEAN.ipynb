{
 "cells": [
  {
   "cell_type": "markdown",
   "metadata": {},
   "source": [
    "# 40-CINCLEAN"
   ]
  },
  {
   "cell_type": "code",
   "execution_count": null,
   "metadata": {},
   "outputs": [],
   "source": [
    "import yaml\n",
    "import os\n",
    "import glob\n",
    "from fddc.cincensus.cincleaner import cleanfiles"
   ]
  },
  {
   "cell_type": "code",
   "execution_count": null,
   "metadata": {},
   "outputs": [],
   "source": [
    "#authority = 'Southampton'\n",
    "authority = 'West Berkshire'"
   ]
  },
  {
   "cell_type": "markdown",
   "metadata": {},
   "source": [
    "### Config"
   ]
  },
  {
   "cell_type": "code",
   "execution_count": null,
   "metadata": {},
   "outputs": [],
   "source": [
    "# CIN data\n",
    "cin_folder = 'C:/Users/{}/Social Finance Ltd/CS Front Door Data Collaboration - Documents/06. Sensitive data (restricted)/{}/input/cin'.format(os.getlogin(), authority)\n",
    "cin_files = glob.glob(os.path.join(cin_folder, \"*.xml\"))\n",
    "\n",
    "# Output folder\n",
    "output_folder = 'C:/Users/{}/Social Finance Ltd/CS Front Door Data Collaboration - Documents/06. Sensitive data (restricted)/{}/input/clean_cin'.format(os.getlogin(),authority)\n",
    "if not os.path.exists(output_folder):\n",
    "    os.makedirs(output_folder)\n",
    "\n",
    "# Config file\n",
    "with open('config/cin_datamap.yaml') as FILE:\n",
    "    config = yaml.load(FILE, Loader=yaml.FullLoader)"
   ]
  },
  {
   "cell_type": "markdown",
   "metadata": {},
   "source": [
    "### Run programme"
   ]
  },
  {
   "cell_type": "code",
   "execution_count": null,
   "metadata": {},
   "outputs": [],
   "source": [
    "cleanfiles(cin_folder, output_folder, config)"
   ]
  },
  {
   "cell_type": "code",
   "execution_count": null,
   "metadata": {},
   "outputs": [],
   "source": []
  }
 ],
 "metadata": {
  "kernelspec": {
   "display_name": "Python 3",
   "language": "python",
   "name": "python3"
  },
  "language_info": {
   "codemirror_mode": {
    "name": "ipython",
    "version": 3
   },
   "file_extension": ".py",
   "mimetype": "text/x-python",
   "name": "python",
   "nbconvert_exporter": "python",
   "pygments_lexer": "ipython3",
   "version": "3.7.5"
  }
 },
 "nbformat": 4,
 "nbformat_minor": 2
}
