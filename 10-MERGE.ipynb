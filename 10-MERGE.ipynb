{
 "cells": [
  {
   "cell_type": "markdown",
   "metadata": {},
   "source": [
    "# 10-MERGE"
   ]
  },
  {
   "cell_type": "code",
   "execution_count": null,
   "metadata": {
    "pycharm": {
     "is_executing": false
    }
   },
   "outputs": [],
   "source": [
    "from IPython.core.display import display\n",
    "%load_ext autoreload\n",
    "%autoreload 2"
   ]
  },
  {
   "cell_type": "code",
   "execution_count": null,
   "metadata": {
    "pycharm": {
     "is_executing": false
    }
   },
   "outputs": [],
   "source": [
    "import logging\n",
    "import pandas as pd\n",
    "import os, webbrowser, pathlib\n",
    "from fddc.annex_a.merger import configuration, find_sources, read_sources, merge_dataframes\n",
    "from fddc.annex_a.merger.file_scanner import ScanSource"
   ]
  },
  {
   "cell_type": "code",
   "execution_count": null,
   "metadata": {
    "pycharm": {
     "is_executing": false
    }
   },
   "outputs": [],
   "source": [
    "logger = logging.getLogger()\n",
    "logger.setLevel(logging.INFO)\n",
    "logging.debug(\"This is just to get logging to work - it seems to refuse to log unless you log something!\")"
   ]
  },
  {
   "cell_type": "markdown",
   "metadata": {
    "pycharm": {
     "is_executing": false,
     "name": "#%% md\n"
    }
   },
   "source": [
    "Now that we have configured the runtime environment, we need to configure the explicit application settings. \n",
    "First we will configure the application with the standard Annex A tables and columns.\n",
    "\n",
    "We can load these from [config/annex-a-merge.yml](./config/annex-a-merge.yml)."
   ]
  },
  {
   "cell_type": "code",
   "execution_count": null,
   "metadata": {
    "collapsed": false,
    "jupyter": {
     "outputs_hidden": false
    },
    "pycharm": {
     "is_executing": false,
     "name": "#%%\n"
    }
   },
   "outputs": [],
   "source": [
    "# Configure standard settings\n",
    "data_sources = configuration.parse_datasources(\"config/annex-a-merge.yml\")"
   ]
  },
  {
   "cell_type": "markdown",
   "metadata": {
    "pycharm": {
     "name": "#%% md\n"
    }
   },
   "source": [
    "Now we are to find some files to include. We can provide individual file names:"
   ]
  },
  {
   "cell_type": "code",
   "execution_count": null,
   "metadata": {
    "collapsed": false,
    "jupyter": {
     "outputs_hidden": false
    },
    "pycharm": {
     "is_executing": false,
     "name": "#%%\n"
    }
   },
   "outputs": [],
   "source": [
    "sources = find_sources('examples/example-A-2005.xls', 'examples/example-B-2004.xlsx', data_sources=data_sources)"
   ]
  },
  {
   "cell_type": "markdown",
   "metadata": {},
   "source": [
    "Or we can provide 'glob' patterns:"
   ]
  },
  {
   "cell_type": "code",
   "execution_count": null,
   "metadata": {
    "collapsed": false,
    "jupyter": {
     "outputs_hidden": false
    },
    "pycharm": {
     "is_executing": false,
     "name": "#%%\n"
    }
   },
   "outputs": [],
   "source": [
    "sources = find_sources('examples/example-*.*', data_sources=data_sources)\n",
    "\n",
    "pd.DataFrame([{\n",
    "    'filename':s.sheet.sheet_detail.filename, \n",
    "    'sort_key':s.sheet.sheet_detail.sort_key, \n",
    "    'sheetname':s.sheet.sheet_detail.sheetname\n",
    "} for s in sources])\n"
   ]
  },
  {
   "cell_type": "markdown",
   "metadata": {},
   "source": [
    "When we come to merging these later, the results will get deduplicated by taking the most recent values (assumed to be cleaner) - we can see that annoyingly our sample files do not sort properly due to the A and B in front of the year. \n",
    "\n",
    "We can provide a 'sort_key' - a regular expression for extracting these values. We're going to use a simple one that matches the year part of the filename. See the [docs](./docs/merger%20-%20components.ipynb) for more details."
   ]
  },
  {
   "cell_type": "code",
   "execution_count": null,
   "metadata": {},
   "outputs": [],
   "source": [
    "file_pattern = ScanSource('examples/example-*.*', [r'/.*?(\\d+).*/\\1/'])\n",
    "sources = find_sources(file_pattern, data_sources=data_sources)\n",
    "\n",
    "pd.DataFrame([{\n",
    "    'filename':s.sheet.sheet_detail.filename, \n",
    "    'sort_key':s.sheet.sheet_detail.sort_key, \n",
    "    'sheetname':s.sheet.sheet_detail.sheetname\n",
    "} for s in sources])\n"
   ]
  },
  {
   "cell_type": "markdown",
   "metadata": {},
   "source": [
    "We can also save the output of the scan so we can see if we discovered all the\n",
    "sheets and columns. This report uses some Excel formulae so it's best viewed in \n",
    "Excel."
   ]
  },
  {
   "cell_type": "code",
   "execution_count": null,
   "metadata": {
    "collapsed": false,
    "jupyter": {
     "outputs_hidden": false
    },
    "pycharm": {
     "is_executing": false,
     "name": "#%%\n"
    }
   },
   "outputs": [],
   "source": [
    "sources = find_sources(file_pattern, data_sources=data_sources, column_report_filename=\"tmp_report.xlsx\")\n",
    "webbrowser.open(pathlib.Path(os.path.abspath(\"tmp_report.xlsx\")).as_uri())"
   ]
  },
  {
   "cell_type": "markdown",
   "metadata": {},
   "source": [
    "You can edit the mappings in this file to match any incorrect columns or sheets. See this \n",
    "[example](./examples/matcher-report/report.xlsx) for details.\n",
    "\n",
    "These can then be loaded back in for rematching."
   ]
  },
  {
   "cell_type": "code",
   "execution_count": null,
   "metadata": {},
   "outputs": [],
   "source": [
    "sources = read_sources(\"tmp_report.xlsx\", data_sources=data_sources)"
   ]
  },
  {
   "cell_type": "markdown",
   "metadata": {
    "pycharm": {
     "is_executing": false,
     "name": "#%% md\n"
    }
   },
   "source": [
    "You can play around with the mappings until you are happy with the result, then you can merge the data"
   ]
  },
  {
   "cell_type": "code",
   "execution_count": null,
   "metadata": {
    "collapsed": false,
    "jupyter": {
     "outputs_hidden": false
    },
    "pycharm": {
     "is_executing": false,
     "name": "#%%\n"
    }
   },
   "outputs": [],
   "source": [
    "merge_dataframes(sources, data_sources=data_sources, output_file=\"merged.xlsx\")\n",
    "webbrowser.open(pathlib.Path(os.path.abspath(\"merged.xlsx\")).as_uri())"
   ]
  },
  {
   "cell_type": "markdown",
   "metadata": {
    "jupyter": {
     "outputs_hidden": false
    },
    "pycharm": {
     "name": "#%%\n"
    }
   },
   "source": [
    "For more information on the merger, see the [component documentation](./docs/merger%20-%20components.ipynb)\n"
   ]
  },
  {
   "cell_type": "code",
   "execution_count": null,
   "metadata": {},
   "outputs": [],
   "source": []
  }
 ],
 "metadata": {
  "kernelspec": {
   "display_name": "Python 3",
   "language": "python",
   "name": "python3"
  },
  "language_info": {
   "codemirror_mode": {
    "name": "ipython",
    "version": 3
   },
   "file_extension": ".py",
   "mimetype": "text/x-python",
   "name": "python",
   "nbconvert_exporter": "python",
   "pygments_lexer": "ipython3",
   "version": "3.6.9"
  },
  "pycharm": {
   "stem_cell": {
    "cell_type": "raw",
    "metadata": {
     "collapsed": false
    },
    "source": []
   }
  }
 },
 "nbformat": 4,
 "nbformat_minor": 4
}
