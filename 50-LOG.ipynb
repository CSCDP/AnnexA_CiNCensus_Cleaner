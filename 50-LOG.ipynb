{
 "cells": [
  {
   "cell_type": "markdown",
   "metadata": {},
   "source": [
    "# LOG"
   ]
  },
  {
   "cell_type": "code",
   "execution_count": null,
   "metadata": {},
   "outputs": [],
   "source": [
    "import glob\n",
    "import os\n",
    "import yaml\n",
    "from fddc.log.cin_log import build_cinrecord\n",
    "from fddc.log.annexa_log import build_annexarecord\n",
    "from fddc.log.log import build_log"
   ]
  },
  {
   "cell_type": "code",
   "execution_count": null,
   "metadata": {},
   "outputs": [],
   "source": [
    "authority = 'Southampton'\n",
    "#authority = 'West Berkshire'"
   ]
  },
  {
   "cell_type": "markdown",
   "metadata": {},
   "source": [
    "### Config"
   ]
  },
  {
   "cell_type": "code",
   "execution_count": null,
   "metadata": {},
   "outputs": [],
   "source": [
    "# CIN data\n",
    "cin_folder = 'C:/Users/{}/Social Finance Ltd/CS Front Door Data Collaboration - Documents/06. Sensitive data (restricted)/{}/input/cin'.format(os.getlogin(), authority)\n",
    "cin_files = glob.glob(os.path.join(cin_folder, \"*.xml\"))\n",
    "\n",
    "# Consolidated Annex A\n",
    "annexa_file = 'C:/Users/{}/Social Finance Ltd/CS Front Door Data Collaboration - Documents/06. Sensitive data (restricted)/{}/outputs/annex-a_cleaned.xlsx'.format(os.getlogin(),authority)\n",
    "\n",
    "# Config file\n",
    "with open('config/cin_to_annexa.yaml') as FILE:\n",
    "    config = yaml.load(FILE, Loader=yaml.FullLoader)\n",
    "\n",
    "# Output file\n",
    "output_file = 'C:/Users/{}/Social Finance Ltd/CS Front Door Data Collaboration - Documents/06. Sensitive data (restricted)/{}/outputs/log.xlsx'.format(os.getlogin(),authority)"
   ]
  },
  {
   "cell_type": "markdown",
   "metadata": {},
   "source": [
    "### Run programme (takes a few minutes depending on quantity of data)"
   ]
  },
  {
   "cell_type": "code",
   "execution_count": null,
   "metadata": {},
   "outputs": [],
   "source": [
    "# 1/ Create CIN log\n",
    "cin = build_cinrecord(cin_files)\n",
    "\n",
    "# 2/ Create Annex A log\n",
    "annexa = build_annexarecord(annexa_file)\n",
    "\n",
    "# 3/ Create master log\n",
    "log = build_log(annexa, cin, output_file, config)\n",
    "log.head()"
   ]
  }
 ],
 "metadata": {
  "kernelspec": {
   "display_name": "Python 3",
   "language": "python",
   "name": "python3"
  },
  "language_info": {
   "codemirror_mode": {
    "name": "ipython",
    "version": 3
   },
   "file_extension": ".py",
   "mimetype": "text/x-python",
   "name": "python",
   "nbconvert_exporter": "python",
   "pygments_lexer": "ipython3",
   "version": "3.7.5"
  }
 },
 "nbformat": 4,
 "nbformat_minor": 2
}
