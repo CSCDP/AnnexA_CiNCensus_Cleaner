{
 "cells": [
  {
   "cell_type": "markdown",
   "metadata": {},
   "source": [
    "# LOG"
   ]
  },
  {
   "cell_type": "code",
   "execution_count": null,
   "metadata": {},
   "outputs": [],
   "source": [
    "import glob\n",
    "import os\n",
    "from lxml import etree\n",
    "import pandas as pd"
   ]
  },
  {
   "cell_type": "code",
   "execution_count": null,
   "metadata": {},
   "outputs": [],
   "source": [
    "# Load the files to log together\n",
    "\n",
    "folder_annexA = ''\n",
    "folder_CINCensus = ''"
   ]
  },
  {
   "cell_type": "code",
   "execution_count": null,
   "metadata": {},
   "outputs": [],
   "source": [
    "# Import CIN Census files\n",
    "\n",
    "files = os.listdir(dir_input_cin)"
   ]
  },
  {
   "cell_type": "code",
   "execution_count": null,
   "metadata": {},
   "outputs": [],
   "source": [
    "NS = {None:'http://www.dcsf.gov.uk/schemas/cbds'}"
   ]
  },
  {
   "cell_type": "code",
   "execution_count": null,
   "metadata": {},
   "outputs": [],
   "source": [
    "files = 'C:/Users/celine.gross/Social Finance Ltd/CS Front Door Data Collaboration - Documents/06. Sensitive data (restricted)/West Berkshire/input/cin/CIN Final Extract 31032018.xml'\n",
    "tree = etree.parse(files)\n",
    "root = tree.getroot()"
   ]
  },
  {
   "cell_type": "code",
   "execution_count": null,
   "metadata": {},
   "outputs": [],
   "source": [
    "children = root.findall('.//Child', NS)\n",
    "for child in children:\n",
    "    print(child)"
   ]
  },
  {
   "cell_type": "code",
   "execution_count": null,
   "metadata": {},
   "outputs": [],
   "source": [
    "child = children[0]"
   ]
  },
  {
   "cell_type": "code",
   "execution_count": null,
   "metadata": {},
   "outputs": [],
   "source": [
    "def findlist(element, tag, NS):\n",
    "    '''\n",
    "    Starting from the 'element', makes a list of the contents of 'tag' nieces (siblings' children sharing the same tag)\n",
    "    '''\n",
    "    value_list = []\n",
    "    values = element.getparent().findall('.//{}'.format(tag), NS)\n",
    "    for value in values:\n",
    "        value_list.append(value.text.strip())\n",
    "    return value_list"
   ]
  },
  {
   "cell_type": "code",
   "execution_count": null,
   "metadata": {},
   "outputs": [],
   "source": [
    "def get_ChildIdentifiers(element, NS=None):\n",
    "    childidentifiers = {}\n",
    "    for group in element:\n",
    "        column = etree.QName(group).localname\n",
    "        value = group.text\n",
    "        childidentifiers[column] = value\n",
    "    return childidentifiers"
   ]
  },
  {
   "cell_type": "code",
   "execution_count": null,
   "metadata": {},
   "outputs": [],
   "source": [
    "def get_ChildCharacteristics(element, NS):\n",
    "    childcharacteristics = {}\n",
    "    for group in element:\n",
    "        if group.tag.endswith('Ethnicity'):\n",
    "            column = etree.QName(group).localname\n",
    "            value = group.text\n",
    "        elif group.tag.endswith('Disabilities'):\n",
    "            column = etree.QName(group).localname\n",
    "            value = findlist(group, 'Disability', NS)\n",
    "        childcharacteristics[column] = value\n",
    "    return childcharacteristics"
   ]
  },
  {
   "cell_type": "code",
   "execution_count": null,
   "metadata": {},
   "outputs": [],
   "source": [
    "def get_Group(element, NS):\n",
    "    group = {}\n",
    "    # Load our reference element\n",
    "    group['Date'] = element.text\n",
    "    group['Type'] = etree.QName(element).localname\n",
    "    # Get the other elements on the same level (siblings)\n",
    "    siblings = element.getparent().getchildren()\n",
    "    for sibling in siblings:\n",
    "        if sibling is not element:\n",
    "            if len(sibling.getchildren())==0: # if siblings don't have children, just get their value\n",
    "                column = etree.QName(sibling).localname\n",
    "                value = sibling.text\n",
    "                group[column] = [value]\n",
    "    # If we're in the Assessment or ChildProtectionPlans modules, we need to get down one level\n",
    "    # to collect all AssessmentFactors abd CPPreviewDate\n",
    "    if element.getparent().tag.endswith('Assessments'):\n",
    "        group['Factors'] = findlist(element, 'AssessmentFactors', NS)\n",
    "    if element.getparent().tag.endswith('ChildProtectionPlans'):\n",
    "        group['CPPreview'] = findlist(element, 'CPPreviewDate', NS)\n",
    "    return group"
   ]
  },
  {
   "cell_type": "code",
   "execution_count": null,
   "metadata": {},
   "outputs": [],
   "source": [
    "for child in children:\n",
    "    for item in child:\n",
    "        if item.tag.endswith('ChildIdentifiers'):\n",
    "            childid = get_ChildIdentifiers(item)\n",
    "        elif item.tag.endswith('CINdetails'):\n",
    "            for i in item:\n",
    "                if i.tag.endswith('Assessments'):\n",
    "                    assts = i.findall('AssessmentActualStartDate', NS)\n",
    "                    for a in assts:\n",
    "                        assts_info = get_Group(a, NS)\n",
    "                    print(assts_info)"
   ]
  },
  {
   "cell_type": "code",
   "execution_count": null,
   "metadata": {},
   "outputs": [],
   "source": [
    "for child in children:\n",
    "    "
   ]
  },
  {
   "cell_type": "code",
   "execution_count": null,
   "metadata": {},
   "outputs": [],
   "source": [
    "child = children[1]\n",
    "event_list = ['CINreferralDate', 'CINclosureDate']\n",
    "all_events_data = pd.DataFrame()\n",
    "\n",
    "for group in child:\n",
    "    if group.tag.endswith('ChildIdentifiers'):\n",
    "        childidentifiers = get_ChildIdentifiers(group)\n",
    "    if group.tag.endswith('ChildCharacteristics'):\n",
    "        childcharacteristics = get_ChildCharacteristics(group, NS)\n",
    "    \n",
    "    if group.tag.endswith('CINdetails'):\n",
    "#        all_events_data = pd.DataFrame()\n",
    "        for event_type in event_list:\n",
    "            event = group.findall(event_type, NS)\n",
    "            for e in event:\n",
    "                cinref = get_Group(e, NS)\n",
    "                df = pd.DataFrame(cinref)\n",
    "                all_events_data = pd.concat([all_events_data, df])\n",
    "                print(type(all_events_data))\n",
    "\n",
    "for key, value in childcharacteristics.items() :\n",
    "    print(value)\n",
    "    all_events_data[key] = [value]\n",
    "for key, value in list(childidentifiers.items()) :\n",
    "    all_events_data[key] = value\n",
    "print(all_events_data)"
   ]
  },
  {
   "cell_type": "code",
   "execution_count": null,
   "metadata": {},
   "outputs": [],
   "source": [
    "test1 = pd.DataFrame({'coucou': 'Chris', 'ghgh': 'Celine'}, index=[1])\n",
    "test2 = pd.DataFrame({'salut': 'Chris', 'bonjour': 'Celine'}, index=[1])\n",
    "test3 = pd.concat([test1, test2], axis =0)\n",
    "test3"
   ]
  },
  {
   "cell_type": "code",
   "execution_count": null,
   "metadata": {},
   "outputs": [],
   "source": [
    "child.getchildren()[2].getchildren()"
   ]
  },
  {
   "cell_type": "code",
   "execution_count": null,
   "metadata": {},
   "outputs": [],
   "source": []
  }
 ],
 "metadata": {
  "kernelspec": {
   "display_name": "Python 3",
   "language": "python",
   "name": "python3"
  },
  "language_info": {
   "codemirror_mode": {
    "name": "ipython",
    "version": 3
   },
   "file_extension": ".py",
   "mimetype": "text/x-python",
   "name": "python",
   "nbconvert_exporter": "python",
   "pygments_lexer": "ipython3",
   "version": "3.7.5"
  }
 },
 "nbformat": 4,
 "nbformat_minor": 2
}
