{
 "cells": [
  {
   "cell_type": "markdown",
   "metadata": {},
   "source": [
    "# LOG"
   ]
  },
  {
   "cell_type": "code",
   "execution_count": null,
   "metadata": {},
   "outputs": [],
   "source": [
    "import glob\n",
    "import os\n",
    "from lxml import etree\n",
    "import pandas as pd"
   ]
  },
  {
   "cell_type": "code",
   "execution_count": null,
   "metadata": {},
   "outputs": [],
   "source": [
    "# Load the files to log together\n",
    "\n",
    "folder_annexA = ''\n",
    "folder_CINCensus = ''"
   ]
  },
  {
   "cell_type": "code",
   "execution_count": null,
   "metadata": {},
   "outputs": [],
   "source": [
    "# Import CIN Census files\n",
    "\n",
    "files = os.listdir(dir_input_cin)"
   ]
  },
  {
   "cell_type": "code",
   "execution_count": null,
   "metadata": {},
   "outputs": [],
   "source": [
    "NS = {None:'http://www.dcsf.gov.uk/schemas/cbds'}"
   ]
  },
  {
   "cell_type": "code",
   "execution_count": null,
   "metadata": {},
   "outputs": [],
   "source": [
    "files = 'C:/Users/celine.gross/Social Finance Ltd/CS Front Door Data Collaboration - Documents/06. Sensitive data (restricted)/West Berkshire/input/cin/CIN Final Extract 31032018.xml'\n",
    "tree = etree.parse(files)\n",
    "root = tree.getroot()"
   ]
  },
  {
   "cell_type": "code",
   "execution_count": null,
   "metadata": {},
   "outputs": [],
   "source": [
    "children = root.findall('.//Child', NS)\n",
    "for child in children:\n",
    "    print(child)"
   ]
  },
  {
   "cell_type": "code",
   "execution_count": null,
   "metadata": {},
   "outputs": [],
   "source": [
    "child = children[0]"
   ]
  },
  {
   "cell_type": "code",
   "execution_count": null,
   "metadata": {},
   "outputs": [],
   "source": [
    "def get_ChildIdentifiers(element):\n",
    "    childidentifiers = {}\n",
    "    for group in element:\n",
    "        column = etree.QName(group).localname\n",
    "        value = group.text\n",
    "        childidentifiers[column] = value\n",
    "    return childidentifiers"
   ]
  },
  {
   "cell_type": "code",
   "execution_count": null,
   "metadata": {},
   "outputs": [],
   "source": [
    "def get_ChildCharacterics():\n",
    "    return"
   ]
  },
  {
   "cell_type": "code",
   "execution_count": null,
   "metadata": {},
   "outputs": [],
   "source": [
    "def get_Group(element, NS):\n",
    "    group = {}\n",
    "    # Load our reference element\n",
    "    group['Date'] = element.text\n",
    "    group['Type'] = etree.QName(element).localname\n",
    "    # Get the other elements on the same level (siblings)\n",
    "    siblings = element.getparent().getchildren()\n",
    "    for sibling in siblings:\n",
    "        if sibling is not element:\n",
    "            if len(sibling.getchildren())==0: # if siblings don't have children, just get their value\n",
    "                column = etree.QName(sibling).localname\n",
    "                value = sibling.text\n",
    "                group[column] = value\n",
    "    # If we're in the Assessment or ChildProtectionPlans modules, we need to get down one level\n",
    "    # to collect all AssessmentFactors abd CPPreviewDate\n",
    "    if element.getparent().tag.endswith('Assessments'):\n",
    "        group['Factors'] = findlist(element, 'AssessmentFactors', NS)\n",
    "    if element.getparent().tag.endswith('ChildProtectionPlans'):\n",
    "        group['Factors'] = findlist(element, 'CPPreviewDate', NS)\n",
    "    return group"
   ]
  },
  {
   "cell_type": "code",
   "execution_count": null,
   "metadata": {},
   "outputs": [],
   "source": [
    "def findlist(element, tag, NS):\n",
    "    '''\n",
    "    Starting from the 'element', makes a list of the contents of 'tag' nieces (siblings' children sharing the same tag)\n",
    "    '''\n",
    "    value_list = []\n",
    "    values = element.getparent().findall('.//{}'.format(tag), NS)\n",
    "    for value in values:\n",
    "        value_list.append(value.text)\n",
    "    return value_list"
   ]
  },
  {
   "cell_type": "code",
   "execution_count": null,
   "metadata": {},
   "outputs": [],
   "source": [
    "for child in children:\n",
    "    for item in child:\n",
    "        if item.tag.endswith('ChildIdentifiers'):\n",
    "            childid = get_ChildIdentifiers(item)\n",
    "        elif item.tag.endswith('CINdetails'):\n",
    "            cinref = item.findall('CINreferralDate', NS)\n",
    "            for cin in cinref:\n",
    "                cinrefinfo = get_Group(cin, NS)\n",
    "    print(cinrefinfo)"
   ]
  },
  {
   "cell_type": "code",
   "execution_count": null,
   "metadata": {},
   "outputs": [],
   "source": [
    "cinrefinfo"
   ]
  },
  {
   "cell_type": "code",
   "execution_count": null,
   "metadata": {},
   "outputs": [],
   "source": []
  }
 ],
 "metadata": {
  "kernelspec": {
   "display_name": "Python 3",
   "language": "python",
   "name": "python3"
  },
  "language_info": {
   "codemirror_mode": {
    "name": "ipython",
    "version": 3
   },
   "file_extension": ".py",
   "mimetype": "text/x-python",
   "name": "python",
   "nbconvert_exporter": "python",
   "pygments_lexer": "ipython3",
   "version": "3.7.5"
  }
 },
 "nbformat": 4,
 "nbformat_minor": 2
}
