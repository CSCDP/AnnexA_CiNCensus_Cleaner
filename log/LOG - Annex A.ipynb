{
 "cells": [
  {
   "cell_type": "code",
   "execution_count": null,
   "metadata": {},
   "outputs": [],
   "source": [
    "import os\n",
    "import pandas as pd"
   ]
  },
  {
   "cell_type": "code",
   "execution_count": null,
   "metadata": {},
   "outputs": [],
   "source": [
    "authority = 'Southampton'\n",
    "folder_path = 'C:/Users/{}/Social Finance Ltd/CS Front Door Data Collaboration - Documents/06. Sensitive data (restricted)/{}/outputs'.format(os.getlogin(),authority)\n",
    "annex_a_path = os.path.join(folder_path, 'annex-a_cleaned.xlsx')\n"
   ]
  },
  {
   "cell_type": "code",
   "execution_count": null,
   "metadata": {},
   "outputs": [],
   "source": [
    "events_dict = {'contact': {'List 1':'Date of Contact'},\n",
    "    'early_help_assessment_start': {'List 2':'Assessment start date'},\n",
    "    'early_help_assessment_completion': {'List 2':'Assessment completion date'},\n",
    "    'referral': {'List 3':'Date of referral'},\n",
    "    'assessment_start': {'List 4':'Continuous Assessment Start Date'},\n",
    "    'assessment_end':{'List 4':'Continuous Assessment Date of Authorisation'},\n",
    "    's47': {'List 5': 'Strategy discussion initiating Section 47 Enquiry Start Date'},\n",
    "    'cin_start': {'List 6': 'CIN Start Date'},\n",
    "    'cin_end': {'List 6': 'CIN Closure Date'},\n",
    "    'cpp_start': {'List 7': 'Child Protection Plan Start Date'},\n",
    "    'cpp_start': {'List 7': 'Child Protection Plan Start Date'},\n",
    "    'lac_start': {'List 8': 'Date Started to be Looked After'},\n",
    "    'lac_end': {'List 8': 'Date Ceased to be Looked After'},\n",
    "}\n",
    "list_number = list(events['contact'].keys())[0]\n",
    "list_number\n",
    "column = events['contact'][list_number]\n",
    "column\n",
    "columns_to_drop = []\n",
    "for event in events_dict:\n",
    "    columns_to_drop.append(list(events_dict[event].values())[0])\n",
    "print(columns_to_drop)"
   ]
  },
  {
   "cell_type": "code",
   "execution_count": null,
   "metadata": {},
   "outputs": [],
   "source": [
    "def create_log(input_file, events): \n",
    "\n",
    "    # Create empty dataframe in which we'll drop our events\n",
    "    log = pd.DataFrame()\n",
    "\n",
    "    # Loop over our dictionary to populate the log\n",
    "    for event in events:\n",
    "        contents = events[event]\n",
    "        print(contents)\n",
    "        list_number = list(contents.keys())[0]\n",
    "        print(list_number)\n",
    "        date_column = contents[list_number]\n",
    "        df = pd.read_excel(input_file, sheet_name=list_number)  \n",
    "        df = df[df[date_column].isnull()==False]\n",
    "        df['Type'] = event\n",
    "        df['Date'] = df[date_column]\n",
    "        log = pd.concat([log, df], sort = False)\n",
    "        log = log[log]\n",
    "\n",
    "    # Re-arrange log column order\n",
    "#     fixed = ['CUID', 'Date', 'Type']\n",
    "#     c = fixed + [col for col in log.columns if col not in fixed]\n",
    "#     log = log[c]\n",
    "\n",
    "#     # Export to Excel\n",
    "#     log.to_excel(output_file)\n",
    "    return log\n",
    "test_log = create_log(annex_a_path, events_dict)"
   ]
  },
  {
   "cell_type": "code",
   "execution_count": null,
   "metadata": {},
   "outputs": [],
   "source": [
    "test_log_dropped = test_log.drop(columns_to_drop, axis = 1)\n",
    "test_log_dropped.head()"
   ]
  }
 ],
 "metadata": {
  "kernelspec": {
   "display_name": "Python 3",
   "language": "python",
   "name": "python3"
  },
  "language_info": {
   "codemirror_mode": {
    "name": "ipython",
    "version": 3
   },
   "file_extension": ".py",
   "mimetype": "text/x-python",
   "name": "python",
   "nbconvert_exporter": "python",
   "pygments_lexer": "ipython3",
   "version": "3.7.4"
  }
 },
 "nbformat": 4,
 "nbformat_minor": 2
}
