{
 "cells": [
  {
   "cell_type": "markdown",
   "metadata": {},
   "source": [
    "# 30-CUSTOM CLEAN"
   ]
  },
  {
   "cell_type": "code",
   "execution_count": null,
   "metadata": {},
   "outputs": [],
   "source": [
    "import pandas as pd\n",
    "from fddc.config import Config\n",
    "from fddc.annex_a.custom_cleaner import custom_clean"
   ]
  },
  {
   "cell_type": "code",
   "execution_count": null,
   "metadata": {},
   "outputs": [],
   "source": [
    "# Set paths\n",
    "\n",
    "config = Config(\"config/data-map.yml\")\n",
    "\n",
    "# Full path to the merged file that should be cleaned (the one from 10-MERGE)\n",
    "config['input_file'] = \"merged.xlsx\"\n",
    "\n",
    "# Full path to the matching report you edited \n",
    "config['input_matching'] = \"matching_report.xlsx\"\n",
    "\n",
    "# Full path to the output file that will hold the cleaned data\n",
    "config['output_file'] = \"final_cleaned.xlsx\""
   ]
  },
  {
   "cell_type": "code",
   "execution_count": null,
   "metadata": {},
   "outputs": [],
   "source": [
    "# Launch cleaning\n",
    "\n",
    "custom_clean(**config)"
   ]
  }
 ],
 "metadata": {
  "kernelspec": {
   "display_name": "Python 3",
   "language": "python",
   "name": "python3"
  },
  "language_info": {
   "codemirror_mode": {
    "name": "ipython",
    "version": 3
   },
   "file_extension": ".py",
   "mimetype": "text/x-python",
   "name": "python",
   "nbconvert_exporter": "python",
   "pygments_lexer": "ipython3",
   "version": "3.7.5"
  }
 },
 "nbformat": 4,
 "nbformat_minor": 2
}
